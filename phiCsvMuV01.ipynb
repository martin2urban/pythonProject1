{
 "cells": [
  {
   "cell_type": "code",
   "execution_count": null,
   "metadata": {
    "collapsed": true
   },
   "outputs": [],
   "source": [
    "import pandas as pd"
   ]
  },
  {
   "cell_type": "code",
   "execution_count": null,
   "outputs": [],
   "source": [
    "url = 'https://raw.githubusercontent.com/PHI-base/data/master/releases/phi-base_current.csv'\n",
    "df = pd.read_csv(url)\n",
    "df\n"
   ],
   "metadata": {
    "collapsed": false
   }
  },
  {
   "cell_type": "code",
   "execution_count": null,
   "outputs": [],
   "source": [
    "new_df = df.iloc[:, :86].copy()\n",
    "new_df.to_csv('phi86cols.csv', index=False)\n",
    "#new_df.columns"
   ],
   "metadata": {
    "collapsed": false
   }
  },
  {
   "cell_type": "code",
   "execution_count": null,
   "outputs": [],
   "source": [
    "new_df.to_csv('phi86cols.csv', index=False)"
   ],
   "metadata": {
    "collapsed": false
   }
  },
  {
   "cell_type": "code",
   "execution_count": null,
   "outputs": [],
   "source": [
    "for i, column_name in enumerate(new_df.columns):\n",
    "    print(f\"Column {i+1}: {column_name}\")"
   ],
   "metadata": {
    "collapsed": false
   }
  },
  {
   "cell_type": "code",
   "execution_count": null,
   "outputs": [],
   "source": [
    "#Read header file R-analysis\n",
    "headers = pd.read_csv(\"MU_R_analysisHeaders.csv\", header=None)\n",
    "headers"
   ],
   "metadata": {
    "collapsed": false
   }
  },
  {
   "cell_type": "code",
   "execution_count": 13,
   "outputs": [
    {
     "data": {
      "text/plain": "86"
     },
     "execution_count": 13,
     "metadata": {},
     "output_type": "execute_result"
    }
   ],
   "source": [
    "phi = new_df.copy()\n",
    "phi.columns = headers.iloc[:, 0]\n",
    "phi.columns\n",
    "phi.shape[1]\n"
   ],
   "metadata": {
    "collapsed": false,
    "ExecuteTime": {
     "end_time": "2023-11-21T19:36:07.310056100Z",
     "start_time": "2023-11-21T19:36:07.263081200Z"
    }
   }
  },
  {
   "cell_type": "code",
   "execution_count": 16,
   "outputs": [
    {
     "data": {
      "text/plain": "30"
     },
     "execution_count": 16,
     "metadata": {},
     "output_type": "execute_result"
    }
   ],
   "source": [
    "slim = phi.filter(regex=r'^(?!.*Exclude).*$')\n",
    "slim.shape[1]"
   ],
   "metadata": {
    "collapsed": false,
    "ExecuteTime": {
     "end_time": "2023-11-21T19:38:00.197188600Z",
     "start_time": "2023-11-21T19:38:00.170370400Z"
    }
   }
  },
  {
   "cell_type": "code",
   "execution_count": 18,
   "outputs": [
    {
     "name": "stdout",
     "output_type": "stream",
     "text": [
      "Column 1: PhiAcc\n",
      "Column 2: ProtDb\n",
      "Column 3: ProtId\n",
      "Column 4: GeneDb\n",
      "Column 5: LocusId\n",
      "Column 6: SeqStrain\n",
      "Column 7: GenName\n",
      "Column 8: MulMut\n",
      "Column 9: PathSpeciesTaxID\n",
      "Column 10: PathSpecies\n",
      "Column 11: PathStrainTaxID\n",
      "Column 12: ExpStrainName\n",
      "Column 13: DiseaseName\n",
      "Column 14: HostDescription\n",
      "Column 15: HostSpeciesTaxId\n",
      "Column 16: HostExpSpecies\n",
      "Column 17: HostCultivarTaxId\n",
      "Column 18: HostGenotype_definedGene.of.interest\n",
      "Column 19: HostGenotype_definedGene.of.interest._AccessionID\n",
      "Column 20: TissueType\n",
      "Column 21: Function\n",
      "Column 22: GO\n",
      "Column 23: Phenotype\n",
      "Column 24: Vegetative_spores\n",
      "Column 25: Sexual_spores\n",
      "Column 26: In_vitro_growth\n",
      "Column 27: Spore_germination\n",
      "Column 28: Literature_Id\n",
      "Column 29: Year_published\n",
      "Column 30: Chemical.group\n"
     ]
    }
   ],
   "source": [
    "for i, column_name in enumerate(slim.columns):\n",
    "    print(f\"Column {i+1}: {column_name}\")"
   ],
   "metadata": {
    "collapsed": false,
    "ExecuteTime": {
     "end_time": "2023-11-21T19:39:34.681232800Z",
     "start_time": "2023-11-21T19:39:34.669755700Z"
    }
   }
  },
  {
   "cell_type": "code",
   "execution_count": 19,
   "outputs": [],
   "source": [
    "slim.to_csv('phiSlim30cols.csv', index=False)"
   ],
   "metadata": {
    "collapsed": false,
    "ExecuteTime": {
     "end_time": "2023-11-21T19:44:32.589568500Z",
     "start_time": "2023-11-21T19:44:32.311055600Z"
    }
   }
  }
 ],
 "metadata": {
  "kernelspec": {
   "display_name": "Python 3",
   "language": "python",
   "name": "python3"
  },
  "language_info": {
   "codemirror_mode": {
    "name": "ipython",
    "version": 2
   },
   "file_extension": ".py",
   "mimetype": "text/x-python",
   "name": "python",
   "nbconvert_exporter": "python",
   "pygments_lexer": "ipython2",
   "version": "2.7.6"
  }
 },
 "nbformat": 4,
 "nbformat_minor": 0
}
